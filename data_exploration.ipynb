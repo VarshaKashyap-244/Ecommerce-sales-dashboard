import pandas as pd

df = pd.read_csv('../data/ecommerce_data.csv', encoding='ISO-8859-1')
df.info()
df.head()
df.describe()
df.isnull().sum()
